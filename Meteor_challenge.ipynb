{
  "nbformat": 4,
  "nbformat_minor": 0,
  "metadata": {
    "colab": {
      "provenance": [],
      "collapsed_sections": [
        "k5o6oNEwD2LY",
        "06TMwON4EaDA",
        "eewxzwh2zUfh",
        "NykBPi6hzaTv",
        "eO2uOn140r-e"
      ]
    },
    "kernelspec": {
      "name": "python3",
      "display_name": "Python 3"
    },
    "language_info": {
      "name": "python"
    }
  },
  "cells": [
    {
      "cell_type": "markdown",
      "source": [
        "# Meteor Challenge\n",
        "\n",
        "Tasks:\n",
        "\n",
        "    1.Count the number of Stars\n",
        "    2.Count the number of Meteors\n",
        "    3.If the Meteors are falling perpendicularly to the Ground (Water level), count how many will fall on the Water\n",
        "    4.(optional) Find the phrase that is hidden in the dots in the sky. \n",
        "        a. HINT 1: 175 Characters\n",
        "        b. HINT 2: Most of the last tasks’ code can be reused for this one"
      ],
      "metadata": {
        "id": "wu6IBAtzyt9E"
      }
    },
    {
      "cell_type": "markdown",
      "source": [
        "## Image pre-processing\n",
        "\n",
        "This first section is where we will build and test the Image Loader, which is a simple Python class that wraps all the main functionalities of image displaying, color masking, and pixel counting that we need to make the code for the challenge questions simpler and easier to understand. The loader was built on top of the openCV and NumPy libraries.\n",
        "\n",
        "IMPORTANT NOTE: this jupyter notebook was created and developed on Google Colab, the ImageLoader.show() function uses a google proprietary function to print images, and it might not work properly outside Colab"
      ],
      "metadata": {
        "id": "k5o6oNEwD2LY"
      }
    },
    {
      "cell_type": "code",
      "source": [
        "from google.colab.patches import cv2_imshow\n",
        "import numpy as np\n",
        "import cv2\n",
        "\n",
        "class ImageLoader():\n",
        "  \"\"\"\n",
        "    Stores an input image and enables the user to create,\n",
        "    show and count masks on top of it.\n",
        "  \"\"\"\n",
        "    \n",
        "  def __init__(self,img):\n",
        "    \"\"\"\n",
        "      stores the input image for further processing\n",
        "\n",
        "      Args:\n",
        "        img: A str that represents the image path \n",
        "          or a numpy array\n",
        "    \"\"\"\n",
        "    if isinstance(img,np.ndarray):\n",
        "      self.img = img\n",
        "    elif isinstance(img,str):\n",
        "      self.img = cv2.imread(img)\n",
        "    self.mask = self.img\n",
        "\n",
        "  def show(self,mask:bool=True):\n",
        "    \"\"\"\n",
        "      Prints the mask or the loader image on the screen\n",
        "\n",
        "      Args:\n",
        "        mask: A boolean that defines if the function is going to print \n",
        "          the mask or the original image of the loader\n",
        "    \"\"\"\n",
        "    if mask:\n",
        "      cv2_imshow(self.mask)\n",
        "    else:\n",
        "      cv2_imshow(self.img)\n",
        "\n",
        "  def color_mask(self,min_rgb:list,max_rgb:list = None):\n",
        "      \"\"\"\n",
        "        Generates a color mask of the input image based \n",
        "        on the desired RGB range.\n",
        "\n",
        "        Args:\n",
        "          min_rgb: A list that contains the lower color \n",
        "            limit in RGB format\n",
        "\n",
        "          max_rgb: A list that contains the upper color\n",
        "            limit in RGB format. If max_rgb is Null,only\n",
        "            the lower limit is considered.\n",
        "      \"\"\"\n",
        "      min_rgb.reverse()\n",
        "      min_color_threshold = np.array(min_rgb, np.uint8)\n",
        "\n",
        "      if max_rgb is None:\n",
        "        max_color_threshold = min_color_threshold\n",
        "      else:\n",
        "        max_rgb.reverse()\n",
        "        max_color_threshold = np.array(max_rgb, np.uint8)\n",
        "\n",
        "      self.mask = cv2.inRange(self.img,min_color_threshold,max_color_threshold)\n",
        "\n",
        "  def count(self):\n",
        "    \"\"\"\n",
        "      returns the number of pixels tracked by\n",
        "      the mask that are within the specified \n",
        "      RGB range\n",
        "    \"\"\"\n",
        "    return cv2.countNonZero(self.mask)\n"
      ],
      "metadata": {
        "id": "ZgYWdJsHNmnK"
      },
      "execution_count": null,
      "outputs": []
    },
    {
      "cell_type": "code",
      "source": [
        "loader = ImageLoader(\"meteor_challenge_01.png\")\n",
        "loader.show()"
      ],
      "metadata": {
        "colab": {
          "base_uri": "https://localhost:8080/",
          "height": 721
        },
        "id": "HPaBzFFPRexG",
        "outputId": "25938af2-2d80-4dc1-e05f-768a12899866"
      },
      "execution_count": 23,
      "outputs": [
        {
          "output_type": "display_data",
          "data": {
            "text/plain": [
              "<PIL.Image.Image image mode=RGB size=704x704 at 0x7FA4BF9A3460>"
            ],
            "image/png": "[encoded data removed]"
          },
          "metadata": {}
        }
      ]
    },
    {
      "cell_type": "markdown",
      "source": [
        "### Testing ImageLoader Pixel Count"
      ],
      "metadata": {
        "id": "06TMwON4EaDA"
      }
    },
    {
      "cell_type": "code",
      "source": [
        "# NOTE: array test_arr is in BGR and 'rgb' in RGB format\n",
        "\n",
        "test_arr = np.array([\n",
        "              [[255,255,255],[255,255,255],[255,255,255],[255,255,255],[255,255,255]],\n",
        "              [[0,0,0],[0,0,0],[0,0,0],[0,0,0],[0,0,0]],\n",
        "              [[255,0,0],[255,0,0],[255,0,0],[255,0,0],[255,0,0]],\n",
        "              [[0,0,255],[0,0,0],[0,0,0],[0,0,0],[0,0,0]],\n",
        "              [[0,0,255],[0,0,0],[255,255,0],[0,0,0],[0,255,0]],\n",
        "              [[0,0,255],[0,0,0],[0,0,0],[0,0,0],[0,0,0]],\n",
        "              [[0,0,255],[0,255,0],[0,0,0],[255,255,0],[0,0,0]],\n",
        "             ])\n",
        "\n",
        "tests = [\n",
        "          {\n",
        "           'color': 'white',\n",
        "           'rgb':[255,255,255],\n",
        "           'expected_output':5\n",
        "          },\n",
        "          {\n",
        "           'color': 'red',\n",
        "           'rgb':[255,0,0],\n",
        "           'expected_output':4\n",
        "          },\n",
        "          {\n",
        "           'color': 'cyan',\n",
        "           'rgb':[0,255,255],\n",
        "           'expected_output':2\n",
        "          },\n",
        "          {\n",
        "           'color' : 'blue',\n",
        "           'rgb':[0,0,255],\n",
        "           'expected_output': 5\n",
        "          },\n",
        "        ]\n",
        "\n",
        "\n",
        "test_loader = ImageLoader(test_arr)\n",
        "test_loader.show()\n",
        "\n",
        "for test in tests:\n",
        "  test_loader.color_mask(test['rgb'])\n",
        "  test_loader.show()\n",
        "\n",
        "  count = test_loader.count()\n",
        "\n",
        "  print(f\"color: {test['color']}, count: {count}, expected_count: {test['expected_output']}\")\n",
        "  assert count == test['expected_output']\n",
        "\n",
        "\n",
        "\n"
      ],
      "metadata": {
        "colab": {
          "base_uri": "https://localhost:8080/",
          "height": 173
        },
        "id": "k_ncJ8ALU1mk",
        "outputId": "ce2296e9-a464-469a-c027-bfde8408742e"
      },
      "execution_count": 29,
      "outputs": [
        {
          "output_type": "display_data",
          "data": {
            "text/plain": [
              "<PIL.Image.Image image mode=RGB size=5x7 at 0x7FA4BF9A3DF0>"
            ],
            "image/png": "[encoded data removed]"
          },
          "metadata": {}
        },
        {
          "output_type": "display_data",
          "data": {
            "text/plain": [
              "<PIL.Image.Image image mode=L size=5x7 at 0x7FA4BF9A3F10>"
            ],
            "image/png": "[encoded data removed]"
          },
          "metadata": {}
        },
        {
          "output_type": "stream",
          "name": "stdout",
          "text": [
            "color: white, count: 5, expected_count: 5\n"
          ]
        },
        {
          "output_type": "display_data",
          "data": {
            "text/plain": [
              "<PIL.Image.Image image mode=L size=5x7 at 0x7FA4BF9A3F10>"
            ],
            "image/png": "[encoded data removed]"
          },
          "metadata": {}
        },
        {
          "output_type": "stream",
          "name": "stdout",
          "text": [
            "color: red, count: 4, expected_count: 4\n"
          ]
        },
        {
          "output_type": "display_data",
          "data": {
            "text/plain": [
              "<PIL.Image.Image image mode=L size=5x7 at 0x7FA4BF9A3F10>"
            ],
            "image/png": "[encoded data removed]"
          },
          "metadata": {}
        },
        {
          "output_type": "stream",
          "name": "stdout",
          "text": [
            "color: cyan, count: 2, expected_count: 2\n"
          ]
        },
        {
          "output_type": "display_data",
          "data": {
            "text/plain": [
              "<PIL.Image.Image image mode=L size=5x7 at 0x7FA4BF9A3F10>"
            ],
            "image/png": "[encoded data removed]"
          },
          "metadata": {}
        },
        {
          "output_type": "stream",
          "name": "stdout",
          "text": [
            "color: blue, count: 5, expected_count: 5\n"
          ]
        }
      ]
    },
    {
      "cell_type": "markdown",
      "source": [
        "## 1.Count the number of Stars\n",
        "\n",
        "Generates a white color mask, prints the mask as an image and the number of stars (white pixels) detected.\n"
      ],
      "metadata": {
        "id": "eewxzwh2zUfh"
      }
    },
    {
      "cell_type": "code",
      "source": [
        "# generates a white color mask, prints the mask as an image and the number of stars (white pixels) detected.\n",
        "loader.color_mask([255,255,255])\n",
        "loader.show()\n",
        "print(f\"number of white pixels is: {loader.count()}\")"
      ],
      "metadata": {
        "colab": {
          "base_uri": "https://localhost:8080/",
          "height": 738
        },
        "id": "ZGTlUkYWeIC7",
        "outputId": "ec9e5548-9db0-4608-8a3c-65c96fea9879"
      },
      "execution_count": 30,
      "outputs": [
        {
          "output_type": "display_data",
          "data": {
            "text/plain": [
              "<PIL.Image.Image image mode=L size=704x704 at 0x7FA4BF9C7310>"
            ],
            "image/png": "[encoded data removed]"
          },
          "metadata": {}
        },
        {
          "output_type": "stream",
          "name": "stdout",
          "text": [
            "number of white pixels is: 315\n"
          ]
        }
      ]
    },
    {
      "cell_type": "markdown",
      "source": [
        "## 2.Count the number of Meteors\n",
        "\n",
        "Generates a red color mask, prints the mask as an image and the number of meteors (red pixels) detected.\n"
      ],
      "metadata": {
        "id": "NykBPi6hzaTv"
      }
    },
    {
      "cell_type": "code",
      "source": [
        "# generates a red color mask, prints the mask as an image and the number of meteors (red pixels) detected.\n",
        "loader.color_mask([255,0,0])\n",
        "loader.show()\n",
        "print(f\"number of red pixels is: {loader.count()}\")"
      ],
      "metadata": {
        "colab": {
          "base_uri": "https://localhost:8080/",
          "height": 738
        },
        "id": "7DXfI6k1hFPf",
        "outputId": "6e52b6f8-9164-4c4c-8e8b-b03413e7c19e"
      },
      "execution_count": null,
      "outputs": [
        {
          "output_type": "display_data",
          "data": {
            "text/plain": [
              "<PIL.Image.Image image mode=L size=704x704 at 0x7FFB11313130>"
            ],
            "image/png": "[encoded data removed]"
          },
          "metadata": {}
        },
        {
          "output_type": "stream",
          "name": "stdout",
          "text": [
            "number of red pixels is: 328\n"
          ]
        }
      ]
    },
    {
      "cell_type": "markdown",
      "source": [
        "## 3.If the Meteors are falling perpendicularly to the Ground (Water level), count how many will fall on the Water\n",
        "\n",
        "On this section, in order to obtain the number of meteors that will fall on the water, we will map the coordinates of blue and red pixels to determine the number of reds that are above the blues."
      ],
      "metadata": {
        "id": "LisPlTr0zdbU"
      }
    },
    {
      "cell_type": "code",
      "source": [
        "# gets a water mask (pure blue mask) using the ImageLoader\n",
        "loader.color_mask([0,0,255])\n",
        "loader.show()\n",
        "blue_mask = loader.mask"
      ],
      "metadata": {
        "colab": {
          "base_uri": "https://localhost:8080/",
          "height": 721
        },
        "id": "Zk8QuKexx8oL",
        "outputId": "5a4778c6-cbd4-4c28-c6b1-30a99fb1ff34"
      },
      "execution_count": 34,
      "outputs": [
        {
          "output_type": "display_data",
          "data": {
            "text/plain": [
              "<PIL.Image.Image image mode=L size=704x704 at 0x7FA4B894F160>"
            ],
            "image/png": "[encoded data removed]"
          },
          "metadata": {}
        }
      ]
    },
    {
      "cell_type": "code",
      "source": [
        "# gets the x axis coordinates of all the pixels detected by the mask\n",
        "x_coordinates = set()\n",
        "for y in range(len(blue_mask)): # loop through every pixel in the mask \n",
        "  for x in range(len(blue_mask[0])):\n",
        "    if blue_mask[y][x] != 0: # if the pixel is a pure blue..\n",
        "      x_coordinates.add(x) # ..add its x coordinate to the set"
      ],
      "metadata": {
        "id": "1EFPIpyFmb3I"
      },
      "execution_count": 35,
      "outputs": []
    },
    {
      "cell_type": "code",
      "source": [
        "# gets a red mask\n",
        "loader.color_mask([255,0,0])\n",
        "meteor_mask = loader.mask\n",
        "\n",
        "# loop through every pixel in the mask\n",
        "for y in range(len(meteor_mask)): \n",
        "  for x in range(len(meteor_mask[0])):\n",
        "    pixel = meteor_mask[y,x]\n",
        "    # if the pixel is a meteor and is above a pond, or in other words, \n",
        "    # if the pixel is pure red and its x-axis location matches that of a blue pixel, set it to 0.\n",
        "    if pixel != 0 and x not in x_coordinates: \n",
        "      meteor_mask[y,x] = 0\n",
        "\n",
        "# print the meteors above a pond\n",
        "cv2_imshow(meteor_mask | blue_mask)\n",
        "\n",
        "print(f\"number of meteors directly above a blue pond: {cv2.countNonZero(meteor_mask)}\")"
      ],
      "metadata": {
        "colab": {
          "base_uri": "https://localhost:8080/",
          "height": 738
        },
        "id": "jRDsAqIuuSRU",
        "outputId": "7830494d-7dde-4c3a-b8e8-be80cfe75d05"
      },
      "execution_count": null,
      "outputs": [
        {
          "output_type": "display_data",
          "data": {
            "text/plain": [
              "<PIL.Image.Image image mode=L size=704x704 at 0x7FFB112DAEE0>"
            ],
            "image/png": "[encoded data removed]"
          },
          "metadata": {}
        },
        {
          "output_type": "stream",
          "name": "stdout",
          "text": [
            "number of meteors directly ahead of a blue pond: 105\n"
          ]
        }
      ]
    },
    {
      "cell_type": "markdown",
      "source": [
        "# 4. Find the phrase that is hidden in the dots in the sky. (Incomplete)\n",
        "\n",
        "    a. HINT 1: 175 Characters\n",
        "    b. HINT 2: Most of the last tasks’ code can be reused for this one"
      ],
      "metadata": {
        "id": "eO2uOn140r-e"
      }
    },
    {
      "cell_type": "code",
      "source": [
        "loader.color_mask([255,255,255])\n",
        "star_mask = loader.mask\n",
        "\n",
        "loader.color_mask([255,0,0])\n",
        "meteor_mask = loader.mask\n",
        "\n",
        "sky_mask = meteor_mask | star_mask\n",
        "cv2_imshow(sky_mask)"
      ],
      "metadata": {
        "id": "ozVHjo_zmrLz",
        "colab": {
          "base_uri": "https://localhost:8080/",
          "height": 721
        },
        "outputId": "4dd10159-1887-4e26-abae-8a2f37fedd7b"
      },
      "execution_count": 36,
      "outputs": [
        {
          "output_type": "display_data",
          "data": {
            "text/plain": [
              "<PIL.Image.Image image mode=L size=704x704 at 0x7FA4BB55F250>"
            ],
            "image/png": "[encoded data removed]"
          },
          "metadata": {}
        }
      ]
    },
    {
      "cell_type": "code",
      "source": [
        "!sudo apt install tesseract-ocr\n",
        "!pip install pytesseract"
      ],
      "metadata": {
        "id": "X2ApCJYDcVYg"
      },
      "execution_count": 37,
      "outputs": []
    },
    {
      "cell_type": "code",
      "source": [
        "!wget https://github.com/tesseract-ocr/tessdata/raw/main/por.traineddata\n",
        "!sudo mv -v por.traineddata /usr/share/tesseract-ocr/4.00/tessdata"
      ],
      "metadata": {
        "id": "9RuZkQX8N9Ck"
      },
      "execution_count": null,
      "outputs": []
    },
    {
      "cell_type": "code",
      "source": [
        "import cv2\n",
        "import pytesseract\n",
        "# pytesseract.pytesseract.tesseract_cmd = r'/usr/local/bin/pytesseract'\n",
        "pytesseract.pytesseract.tesseract_cmd = r'/usr/bin/tesseract'\n",
        "\n",
        "# Apply thresholding to create a binary image\n",
        "# _, binary = cv2.threshold(sky_mask, 0, 255, cv2.THRESH_BINARY)\n",
        "ret, threshold = cv2.threshold(sky_mask,150,255,cv2.THRESH_BINARY)\n",
        "\n",
        "# Find contours in the binary image\n",
        "contours, _ = cv2.findContours(threshold, cv2.RETR_EXTERNAL, cv2.CHAIN_APPROX_SIMPLE)\n",
        "\n",
        "# Loop over the contours and extract the coordinates of their points\n",
        "dots = []\n",
        "for contour in contours:\n",
        "    coords = []\n",
        "    for point in contour:\n",
        "        coords.append(tuple(point[0]))\n",
        "    dots.append(coords)\n",
        "\n",
        "# Group the dots based on their proximity to each other\n",
        "groups = []\n",
        "while len(dots) > 0:\n",
        "    group = [dots[0]]\n",
        "    dots.pop(0)\n",
        "    i = 0\n",
        "    while i < len(group):\n",
        "        j = 0\n",
        "        while j < len(dots):\n",
        "            dist = np.linalg.norm(np.array(group[i]) - np.array(dots[j]))\n",
        "            if dist < 20:\n",
        "                group.append(dots[j])\n",
        "                dots.pop(j)\n",
        "                j -= 1\n",
        "            j += 1\n",
        "        i += 1\n",
        "    groups.append(group)\n",
        "\n",
        "# Extract the hidden phrase by applying text recognition to the grouped dots\n",
        "phrase = \"\"\n",
        "for group in groups:\n",
        "\n",
        "    print(group)\n",
        "    x, y, w, h = cv2.boundingRect(np.array(group))\n",
        "    cropped = meteor_mask[y:y+h, x:x+w]\n",
        "    text = pytesseract.image_to_string(cropped, lang='por', config='--psm 6')\n",
        "    print(text)\n",
        "    phrase += text.strip()\n",
        "\n",
        "print(\"Hidden phrase:\", phrase)"
      ],
      "metadata": {
        "id": "IsNQ-tUFN_yE"
      },
      "execution_count": null,
      "outputs": []
    }
  ]
}